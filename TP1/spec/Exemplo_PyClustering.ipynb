{
 "cells": [
  {
   "cell_type": "code",
   "execution_count": 28,
   "metadata": {
    "colab": {
     "base_uri": "https://localhost:8080/"
    },
    "id": "FwNoTdt20tAC",
    "outputId": "98db9475-51e6-4d77-cd78-5f902464fc31"
   },
   "outputs": [
    {
     "name": "stdout",
     "output_type": "stream",
     "text": [
      "0.10.1.2\n"
     ]
    }
   ],
   "source": [
    "# Manipulação dos dados\n",
    "import pandas as pd\n",
    "\n",
    "# Métrica v_measure_score\n",
    "from sklearn.metrics.cluster import v_measure_score\n",
    "\n",
    "# Funções para clustering utilizando PyClustering\n",
    "# Importante: para realização do TP é imprescindível que seu PyClustering esteja na versão 0.10.1 ou superior\n",
    "from pyclustering.cluster.kmeans import kmeans\n",
    "from pyclustering.cluster.center_initializer import kmeans_plusplus_initializer\n",
    "from pyclustering.utils.metric import distance_metric, type_metric\n",
    "\n",
    "# Checa versão da biblioteca PyClustering\n",
    "import pyclustering\n",
    "print(pyclustering.__version__ )"
   ]
  },
  {
   "cell_type": "markdown",
   "metadata": {
    "id": "w71kzbvE0tAO"
   },
   "source": [
    "## Leitura dos dados"
   ]
  },
  {
   "cell_type": "code",
   "execution_count": null,
   "metadata": {
    "id": "mPTfmEIf0tAP"
   },
   "outputs": [],
   "source": [
    "\"\"\"\n",
    "O dataset iris não deve ser utilizado no desenvolvimento do Trabalho Prático\n",
    "\"\"\"\n",
    "# Leitura dos dados\n",
    "df = pd.read_csv('iris.csv')\n",
    "# Seleciona atributos a serem utilizados para clusterizar os dados\n",
    "X = df.drop(['target'], axis=1)"
   ]
  },
  {
   "cell_type": "markdown",
   "metadata": {
    "id": "UO8fM7X80tAQ"
   },
   "source": [
    "## Definição da função de distância"
   ]
  },
  {
   "cell_type": "code",
   "execution_count": null,
   "metadata": {
    "id": "EXWyYsev0tAQ"
   },
   "outputs": [],
   "source": [
    "# Modelo de função de distância aceita pela biblioteca PyClustering\n",
    "def my_manhattan(point1, point2):\n",
    "    \"\"\"\n",
    "    input:\n",
    "        point1 e point2 = pontos utilizados no cálculo da distância\n",
    "    output:\n",
    "        result = distância entre os dois pontos\n",
    "    \"\"\"\n",
    "    dimension = len(point1)\n",
    "    result = 0.0\n",
    "    for i in range(dimension):\n",
    "        result += abs(point1[i] - point2[i]) * 0.1\n",
    "    return result"
   ]
  },
  {
   "cell_type": "markdown",
   "metadata": {
    "id": "jugd41TU0tAR"
   },
   "source": [
    "## Treinamento do Modelo"
   ]
  },
  {
   "cell_type": "code",
   "execution_count": null,
   "metadata": {
    "id": "L9C5561U0tAR"
   },
   "outputs": [],
   "source": [
    "# Instancia a função de distância\n",
    "manhattan_metric = distance_metric(type_metric.USER_DEFINED, func=my_manhattan)\n",
    "# define número de clusters\n",
    "k = 3\n",
    "# Inicializa centróides utilizando método K-Means++\n",
    "initial_centers = kmeans_plusplus_initializer(X, k).initialize()\n",
    "# cria instância do K-Means utilizando sua métrica de distância\n",
    "kmeans_instance = kmeans(X, initial_centers, metric=manhattan_metric)\n",
    "# treina o modelo\n",
    "kmeans_instance.process()\n",
    "# recupera os clusters gerados\n",
    "clusters = kmeans_instance.get_clusters()"
   ]
  },
  {
   "cell_type": "markdown",
   "metadata": {
    "id": "52v695Zx0tAR"
   },
   "source": [
    "## Avaliação do Modelo"
   ]
  },
  {
   "cell_type": "code",
   "execution_count": null,
   "metadata": {
    "colab": {
     "base_uri": "https://localhost:8080/"
    },
    "id": "9P9_RZMR0tAS",
    "outputId": "2b2f1cd6-819a-4500-fbdb-0bf3c04f084c"
   },
   "outputs": [
    {
     "data": {
      "text/plain": [
       "0.7514854021988338"
      ]
     },
     "execution_count": 14,
     "metadata": {
      "tags": []
     },
     "output_type": "execute_result"
    }
   ],
   "source": [
    "\"\"\"\n",
    "Importante: o índice do cluster gerado não é necessariamente \n",
    "a classe prevista por aquele cluster.\n",
    "\"\"\"\n",
    "# Label prevista pelo cluster 0\n",
    "df.loc[clusters[0],'y_pred'] = 0\n",
    "# Label prevista pelo cluster 1\n",
    "df.loc[clusters[1],'y_pred'] = 1\n",
    "# Label prevista pelo cluster 2\n",
    "df.loc[clusters[2],'y_pred'] = 2\n",
    "\n",
    "# Calcula v_measure_score\n",
    "v_measure_score(df.target, df.y_pred)"
   ]
  },
  {
   "cell_type": "markdown",
   "metadata": {
    "id": "cRTfSpNr0tAT"
   },
   "source": [
    "# Baseline: Distância Euclidiana\n",
    "## Treinamento do Modelo"
   ]
  },
  {
   "cell_type": "code",
   "execution_count": null,
   "metadata": {
    "id": "C5C3l5HB0tAT"
   },
   "outputs": [],
   "source": [
    "# define número de clusters\n",
    "k = 3\n",
    "# Inicializa centróides utilizando método K-Means++\n",
    "initial_centers = kmeans_plusplus_initializer(X, k).initialize()\n",
    "# cria instância do K-Means utilizando distância Euclidiana\n",
    "kmeans_instance = kmeans(X, initial_centers)\n",
    "# run cluster analysis and obtain results\n",
    "kmeans_instance.process()\n",
    "# recupera os clusters gerados\n",
    "clusters = kmeans_instance.get_clusters()"
   ]
  },
  {
   "cell_type": "markdown",
   "metadata": {
    "id": "53-6veTr0tAT"
   },
   "source": [
    "## Avaliação do Modelo"
   ]
  },
  {
   "cell_type": "code",
   "execution_count": null,
   "metadata": {
    "colab": {
     "base_uri": "https://localhost:8080/"
    },
    "id": "2bHVMgka0tAU",
    "outputId": "9cef6675-941b-43c9-c924-eee94069c13d"
   },
   "outputs": [
    {
     "data": {
      "text/plain": [
       "0.7581756800057784"
      ]
     },
     "execution_count": 13,
     "metadata": {
      "tags": []
     },
     "output_type": "execute_result"
    }
   ],
   "source": [
    "# Label prevista pelo cluster 0\n",
    "df.loc[clusters[0],'y_pred'] = 0\n",
    "# Label prevista pelo cluster 1\n",
    "df.loc[clusters[1],'y_pred'] = 1\n",
    "# Label prevista pelo cluster 2\n",
    "df.loc[clusters[2],'y_pred'] = 2\n",
    "\n",
    "# Calcula FMI\n",
    "v_measure_score(df.target, df.y_pred)"
   ]
  }
 ],
 "metadata": {
  "colab": {
   "name": "Exemplo PyClustering.ipynb",
   "provenance": [],
   "toc_visible": true
  },
  "kernelspec": {
   "display_name": "Python 3",
   "language": "python",
   "name": "python3"
  },
  "language_info": {
   "codemirror_mode": {
    "name": "ipython",
    "version": 3
   },
   "file_extension": ".py",
   "mimetype": "text/x-python",
   "name": "python",
   "nbconvert_exporter": "python",
   "pygments_lexer": "ipython3",
   "version": "3.8.5"
  }
 },
 "nbformat": 4,
 "nbformat_minor": 1
}
